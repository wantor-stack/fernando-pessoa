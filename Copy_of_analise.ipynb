{
  "nbformat": 4,
  "nbformat_minor": 0,
  "metadata": {
    "colab": {
      "name": "Copy of analise.ipynb",
      "provenance": [],
      "collapsed_sections": [],
      "toc_visible": true,
      "include_colab_link": true
    },
    "kernelspec": {
      "display_name": "Python 3",
      "language": "python",
      "name": "python3"
    },
    "language_info": {
      "codemirror_mode": {
        "name": "ipython",
        "version": 3
      },
      "file_extension": ".py",
      "mimetype": "text/x-python",
      "name": "python",
      "nbconvert_exporter": "python",
      "pygments_lexer": "ipython3",
      "version": "3.8.3"
    }
  },
  "cells": [
    {
      "cell_type": "markdown",
      "metadata": {
        "id": "view-in-github",
        "colab_type": "text"
      },
      "source": [
        "<a href=\"https://colab.research.google.com/github/wantor-stack/fernando-pessoa/blob/master/Copy_of_analise.ipynb\" target=\"_parent\"><img src=\"https://colab.research.google.com/assets/colab-badge.svg\" alt=\"Open In Colab\"/></a>"
      ]
    },
    {
      "cell_type": "markdown",
      "metadata": {
        "id": "KY5jy271nPbj"
      },
      "source": [
        "# Classificador de poemas do Fernando Pessoa\n",
        "## Grupo Turing - NLP"
      ]
    },
    {
      "cell_type": "markdown",
      "metadata": {
        "id": "y3Eb2-ienPbq"
      },
      "source": [
        "## Passo 0: importando as bibliotecas"
      ]
    },
    {
      "cell_type": "code",
      "metadata": {
        "colab": {
          "base_uri": "https://localhost:8080/"
        },
        "id": "rkvlklOtnPbr",
        "outputId": "795abeb6-b5a2-4655-a9aa-c942f86d091b"
      },
      "source": [
        "!pip install langdetect"
      ],
      "execution_count": null,
      "outputs": [
        {
          "output_type": "stream",
          "text": [
            "Collecting langdetect\n",
            "\u001b[?25l  Downloading https://files.pythonhosted.org/packages/56/a3/8407c1e62d5980188b4acc45ef3d94b933d14a2ebc9ef3505f22cf772570/langdetect-1.0.8.tar.gz (981kB)\n",
            "\u001b[K     |████████████████████████████████| 983kB 5.0MB/s \n",
            "\u001b[?25hRequirement already satisfied: six in /usr/local/lib/python3.7/dist-packages (from langdetect) (1.15.0)\n",
            "Building wheels for collected packages: langdetect\n",
            "  Building wheel for langdetect (setup.py) ... \u001b[?25l\u001b[?25hdone\n",
            "  Created wheel for langdetect: filename=langdetect-1.0.8-cp37-none-any.whl size=993193 sha256=ef693391ef0a69366a81e56581a88e7f1c34e726c0959be15f8dba8910af4b9b\n",
            "  Stored in directory: /root/.cache/pip/wheels/8d/b3/aa/6d99de9f3841d7d3d40a60ea06e6d669e8e5012e6c8b947a57\n",
            "Successfully built langdetect\n",
            "Installing collected packages: langdetect\n",
            "Successfully installed langdetect-1.0.8\n"
          ],
          "name": "stdout"
        }
      ]
    },
    {
      "cell_type": "code",
      "metadata": {
        "colab": {
          "base_uri": "https://localhost:8080/"
        },
        "id": "YciCAACfr16q",
        "outputId": "90e3f338-3893-43e5-ba43-370db8a721d5"
      },
      "source": [
        "!python -m spacy download pt_core_news_sm"
      ],
      "execution_count": null,
      "outputs": [
        {
          "output_type": "stream",
          "text": [
            "Collecting pt_core_news_sm==2.2.5\n",
            "\u001b[?25l  Downloading https://github.com/explosion/spacy-models/releases/download/pt_core_news_sm-2.2.5/pt_core_news_sm-2.2.5.tar.gz (21.2MB)\n",
            "\u001b[K     |████████████████████████████████| 21.2MB 65.3MB/s \n",
            "\u001b[?25hRequirement already satisfied: spacy>=2.2.2 in /usr/local/lib/python3.7/dist-packages (from pt_core_news_sm==2.2.5) (2.2.4)\n",
            "Requirement already satisfied: numpy>=1.15.0 in /usr/local/lib/python3.7/dist-packages (from spacy>=2.2.2->pt_core_news_sm==2.2.5) (1.19.5)\n",
            "Requirement already satisfied: cymem<2.1.0,>=2.0.2 in /usr/local/lib/python3.7/dist-packages (from spacy>=2.2.2->pt_core_news_sm==2.2.5) (2.0.5)\n",
            "Requirement already satisfied: murmurhash<1.1.0,>=0.28.0 in /usr/local/lib/python3.7/dist-packages (from spacy>=2.2.2->pt_core_news_sm==2.2.5) (1.0.5)\n",
            "Requirement already satisfied: thinc==7.4.0 in /usr/local/lib/python3.7/dist-packages (from spacy>=2.2.2->pt_core_news_sm==2.2.5) (7.4.0)\n",
            "Requirement already satisfied: tqdm<5.0.0,>=4.38.0 in /usr/local/lib/python3.7/dist-packages (from spacy>=2.2.2->pt_core_news_sm==2.2.5) (4.41.1)\n",
            "Requirement already satisfied: preshed<3.1.0,>=3.0.2 in /usr/local/lib/python3.7/dist-packages (from spacy>=2.2.2->pt_core_news_sm==2.2.5) (3.0.5)\n",
            "Requirement already satisfied: wasabi<1.1.0,>=0.4.0 in /usr/local/lib/python3.7/dist-packages (from spacy>=2.2.2->pt_core_news_sm==2.2.5) (0.8.2)\n",
            "Requirement already satisfied: setuptools in /usr/local/lib/python3.7/dist-packages (from spacy>=2.2.2->pt_core_news_sm==2.2.5) (54.1.2)\n",
            "Requirement already satisfied: plac<1.2.0,>=0.9.6 in /usr/local/lib/python3.7/dist-packages (from spacy>=2.2.2->pt_core_news_sm==2.2.5) (1.1.3)\n",
            "Requirement already satisfied: srsly<1.1.0,>=1.0.2 in /usr/local/lib/python3.7/dist-packages (from spacy>=2.2.2->pt_core_news_sm==2.2.5) (1.0.5)\n",
            "Requirement already satisfied: blis<0.5.0,>=0.4.0 in /usr/local/lib/python3.7/dist-packages (from spacy>=2.2.2->pt_core_news_sm==2.2.5) (0.4.1)\n",
            "Requirement already satisfied: catalogue<1.1.0,>=0.0.7 in /usr/local/lib/python3.7/dist-packages (from spacy>=2.2.2->pt_core_news_sm==2.2.5) (1.0.0)\n",
            "Requirement already satisfied: requests<3.0.0,>=2.13.0 in /usr/local/lib/python3.7/dist-packages (from spacy>=2.2.2->pt_core_news_sm==2.2.5) (2.23.0)\n",
            "Requirement already satisfied: importlib-metadata>=0.20; python_version < \"3.8\" in /usr/local/lib/python3.7/dist-packages (from catalogue<1.1.0,>=0.0.7->spacy>=2.2.2->pt_core_news_sm==2.2.5) (3.7.2)\n",
            "Requirement already satisfied: chardet<4,>=3.0.2 in /usr/local/lib/python3.7/dist-packages (from requests<3.0.0,>=2.13.0->spacy>=2.2.2->pt_core_news_sm==2.2.5) (3.0.4)\n",
            "Requirement already satisfied: urllib3!=1.25.0,!=1.25.1,<1.26,>=1.21.1 in /usr/local/lib/python3.7/dist-packages (from requests<3.0.0,>=2.13.0->spacy>=2.2.2->pt_core_news_sm==2.2.5) (1.24.3)\n",
            "Requirement already satisfied: certifi>=2017.4.17 in /usr/local/lib/python3.7/dist-packages (from requests<3.0.0,>=2.13.0->spacy>=2.2.2->pt_core_news_sm==2.2.5) (2020.12.5)\n",
            "Requirement already satisfied: idna<3,>=2.5 in /usr/local/lib/python3.7/dist-packages (from requests<3.0.0,>=2.13.0->spacy>=2.2.2->pt_core_news_sm==2.2.5) (2.10)\n",
            "Requirement already satisfied: zipp>=0.5 in /usr/local/lib/python3.7/dist-packages (from importlib-metadata>=0.20; python_version < \"3.8\"->catalogue<1.1.0,>=0.0.7->spacy>=2.2.2->pt_core_news_sm==2.2.5) (3.4.1)\n",
            "Requirement already satisfied: typing-extensions>=3.6.4; python_version < \"3.8\" in /usr/local/lib/python3.7/dist-packages (from importlib-metadata>=0.20; python_version < \"3.8\"->catalogue<1.1.0,>=0.0.7->spacy>=2.2.2->pt_core_news_sm==2.2.5) (3.7.4.3)\n",
            "Building wheels for collected packages: pt-core-news-sm\n",
            "  Building wheel for pt-core-news-sm (setup.py) ... \u001b[?25l\u001b[?25hdone\n",
            "  Created wheel for pt-core-news-sm: filename=pt_core_news_sm-2.2.5-cp37-none-any.whl size=21186283 sha256=aaf4d798985963a3c5e4b516a71f219f73f426b622a5418bd3a99d6c7d16b8b8\n",
            "  Stored in directory: /tmp/pip-ephem-wheel-cache-8k9x01h9/wheels/ea/94/74/ec9be8418e9231b471be5dc7e1b45dd670019a376a6b5bc1c0\n",
            "Successfully built pt-core-news-sm\n",
            "Installing collected packages: pt-core-news-sm\n",
            "Successfully installed pt-core-news-sm-2.2.5\n",
            "\u001b[38;5;2m✔ Download and installation successful\u001b[0m\n",
            "You can now load the model via spacy.load('pt_core_news_sm')\n"
          ],
          "name": "stdout"
        }
      ]
    },
    {
      "cell_type": "code",
      "metadata": {
        "id": "huhOdj9WJL-k"
      },
      "source": [
        "import re\n",
        "import unicodedata\n",
        "\n",
        "import pandas as pd\n",
        "import matplotlib.pyplot as plt\n",
        "from tqdm import tqdm\n",
        "\n",
        "from sklearn.naive_bayes import GaussianNB\n",
        "from sklearn.decomposition import PCA\n",
        "from sklearn.feature_extraction.text import TfidfVectorizer\n",
        "from sklearn.metrics import accuracy_score\n",
        "from sklearn.model_selection import train_test_split\n",
        "from sklearn.preprocessing import LabelEncoder\n",
        "from sklearn.svm import SVC\n",
        "from sklearn.model_selection import GridSearchCV\n",
        "\n",
        "import nltk\n",
        "from nltk.corpus import stopwords\n",
        "from nltk.stem.snowball import PortugueseStemmer\n",
        "from langdetect import detect, DetectorFactory\n",
        "import spacy\n",
        "from spacy.lang.pt.examples import sentences"
      ],
      "execution_count": null,
      "outputs": []
    },
    {
      "cell_type": "code",
      "metadata": {
        "colab": {
          "base_uri": "https://localhost:8080/"
        },
        "id": "xwwdwrIUnPbu",
        "outputId": "2f418a45-6777-421c-d514-9d4a02562a81"
      },
      "source": [
        "nltk.download('stopwords')\n",
        "tqdm.pandas()\n",
        "DetectorFactory.seed = 42"
      ],
      "execution_count": null,
      "outputs": [
        {
          "output_type": "stream",
          "text": [
            "[nltk_data] Downloading package stopwords to /root/nltk_data...\n",
            "[nltk_data]   Package stopwords is already up-to-date!\n"
          ],
          "name": "stdout"
        },
        {
          "output_type": "stream",
          "text": [
            "/usr/local/lib/python3.7/dist-packages/tqdm/std.py:658: FutureWarning: The Panel class is removed from pandas. Accessing it from the top-level namespace will also be removed in the next version\n",
            "  from pandas import Panel\n"
          ],
          "name": "stderr"
        }
      ]
    },
    {
      "cell_type": "markdown",
      "metadata": {
        "id": "6pcnGQPGnPbu"
      },
      "source": [
        "## Passo 1: carregar o dataset e filtrar por autores mais frequentes"
      ]
    },
    {
      "cell_type": "code",
      "metadata": {
        "id": "inuQshNZJL-s"
      },
      "source": [
        "dados = pd.read_csv('fernando_pessoa.csv')\n",
        "dados.drop(['id', 'titulo', 'data', 'bibliografia'], inplace=True, axis=1)\n",
        "dados.reset_index(drop=True, inplace=True)"
      ],
      "execution_count": null,
      "outputs": []
    },
    {
      "cell_type": "markdown",
      "metadata": {
        "id": "rkJrlcs4nPbv"
      },
      "source": [
        "Nesse passo, optamos por trabalhar com os autores com mais de 80 textos, pois menos que isso poderia ocasionar um sobreajuste. "
      ]
    },
    {
      "cell_type": "code",
      "metadata": {
        "id": "MrqnazFXJL-x"
      },
      "source": [
        "dados = dados.groupby('autor').filter(lambda x : (x['autor'].count()>=80).any())"
      ],
      "execution_count": null,
      "outputs": []
    },
    {
      "cell_type": "markdown",
      "metadata": {
        "id": "M6Tt1IAinPbv"
      },
      "source": [
        "Além disso, percebemos que no corpus há muitos textos em inglês, para isso utilizamos a função **detect** da biblioteca *langdetect*. Isso eliminou certa de 625 textos."
      ]
    },
    {
      "cell_type": "code",
      "metadata": {
        "id": "Pd3Llf8-nPbw",
        "colab": {
          "base_uri": "https://localhost:8080/"
        },
        "outputId": "8e2df6fe-9063-4cc3-ddbd-652a3e934984"
      },
      "source": [
        "dados['port'] = dados['texto'].progress_apply(lambda x: detect(x) != 'en')\n",
        "dados = dados[dados['port'] == True]\n",
        "dados.reset_index(inplace = True)"
      ],
      "execution_count": null,
      "outputs": [
        {
          "output_type": "stream",
          "text": [
            "100%|██████████| 4383/4383 [00:42<00:00, 103.10it/s]\n"
          ],
          "name": "stderr"
        }
      ]
    },
    {
      "cell_type": "markdown",
      "metadata": {
        "id": "WtNoeLIgnPbw"
      },
      "source": [
        "## Passo 2: Preprocessamento: stemização, lematização, etc. "
      ]
    },
    {
      "cell_type": "markdown",
      "metadata": {
        "id": "t8_vr3rHnPbw"
      },
      "source": [
        "Ao analisar os textos, vimos que muitas palavras começavam com um travessão ou *underscore* indicador de diálogo. Para resolver tal problema, criamos a função `remover_underscore`, que lidou bem com o problema. "
      ]
    },
    {
      "cell_type": "code",
      "metadata": {
        "id": "vpDqagLanPbx"
      },
      "source": [
        "def remover_underscore(palavra):\n",
        "    if palavra[0] == '_' or palavra[-1] == '_':\n",
        "        return palavra.replace('_', '')\n",
        "    else:\n",
        "        return palavra"
      ],
      "execution_count": null,
      "outputs": []
    },
    {
      "cell_type": "markdown",
      "metadata": {
        "id": "LZAUD6T7nPbx"
      },
      "source": [
        "Também percebemos que palavras acentuados prejudicam o modelo de stemização e de lematização, portanto optamos por remover todos os acentos. A função `remover_acento` talvez poderia ser mais simples, entretanto foi a solução encontrada. "
      ]
    },
    {
      "cell_type": "code",
      "metadata": {
        "id": "LeTciax4nPbx"
      },
      "source": [
        "def remover_acento(texto):\n",
        "    try:\n",
        "        texto = unicode(texto, 'utf-8')\n",
        "    except NameError:\n",
        "        pass\n",
        "    texto = unicodedata.normalize('NFD', texto)\\\n",
        "           .encode('ascii', 'ignore')\\\n",
        "           .decode(\"utf-8\")\n",
        "    return str(texto)"
      ],
      "execution_count": null,
      "outputs": []
    },
    {
      "cell_type": "markdown",
      "metadata": {
        "id": "PlcTj1W_nPbx"
      },
      "source": [
        "Por último, tanto na stemização, quanto na lematização, foi importante remover _stopwords_ do texto. Para isso, usaremos a lista de stopwords em português que o NLTK fornece. Além disso, também usamos expressões regulares (*regex*) para eliminar quaisquer caracteres que pudessem poluir o texto."
      ]
    },
    {
      "cell_type": "code",
      "metadata": {
        "id": "LCUzIGH2nPby"
      },
      "source": [
        "stopwords_pt = set(stopwords.words('portuguese'))\n",
        "\n",
        "def remover_stopwords(texto, lista=False):\n",
        "    palavras = re.findall(r'\\b[A-zÀ-úü]+\\b', texto.lower())\n",
        "    sem_stopwords = [p for p in palavras if p not in stopwords_pt]\n",
        "    if lista:\n",
        "        return sem_stopwords\n",
        "    else:\n",
        "        return ' '.join(sem_stopwords)"
      ],
      "execution_count": null,
      "outputs": []
    },
    {
      "cell_type": "markdown",
      "metadata": {
        "id": "8hZOWEcfnPby"
      },
      "source": [
        "### Passo 2.1: stemização utilizando SnowBall"
      ]
    },
    {
      "cell_type": "markdown",
      "metadata": {
        "id": "kwgvo6PinPby"
      },
      "source": [
        "Aqui criamos as duas funções mais importantes do preprocessamento do texto. A primeira, `stemizar`, recebe o texto não processado e o devolve com as palavras stemizadas e sem stopwords. Para isso, utilizamos o algoritmo *Snowball* criado por Martin Porter. A biblioteca do NLTK conta com um stemizador chamado `PortugueseStemmer` e é ele que utilizaremos."
      ]
    },
    {
      "cell_type": "code",
      "metadata": {
        "id": "r4CPtoN-JL-1"
      },
      "source": [
        "def stemizar(texto_original):\n",
        "    palavras_importantes = remover_stopwords(texto_original, lista=True)\n",
        "    \n",
        "    stemizador = PortugueseStemmer()\n",
        "    palavras = []\n",
        "\n",
        "    for p in palavras_importantes:\n",
        "        novo_p = remover_underscore(remover_acento(p))\n",
        "        palavras.append(stemizador.stem(novo_p))\n",
        "    return ' '.join(palavras)"
      ],
      "execution_count": null,
      "outputs": []
    },
    {
      "cell_type": "markdown",
      "metadata": {
        "id": "CUlNopP2nPbz"
      },
      "source": [
        "### Passo 2.2: lematização utilizando spaCy"
      ]
    },
    {
      "cell_type": "markdown",
      "metadata": {
        "id": "qR9Y11cLnPbz"
      },
      "source": [
        "A outra função criada foi a `lematizar`. Similar à função anterior, essa função recebe o texto não processado e o devolve com os verbos lematizados. Para isso, utilizamos os modelos da biblioteca **spaCy**, a qual conta também com ferramentas de marcação de partes do discurso, utilizadas na função para separar os verbos a serem lematizados. "
      ]
    },
    {
      "cell_type": "code",
      "metadata": {
        "id": "Rvyx1TWvnPbz"
      },
      "source": [
        "nlp = spacy.load(\"pt_core_news_sm\")\n",
        "\n",
        "def lematizar(texto_original):\n",
        "    palavras_importantes = remover_stopwords(texto_original, lista=True)\n",
        "    \n",
        "    texto_importante = ' '.join(palavras_importantes)\n",
        "    texto_importante = remover_underscore(remover_acento(texto_importante))\n",
        "    \n",
        "    doc = nlp(texto_importante)\n",
        "    doc_lematizado = [token.lemma_ if token.pos_ == 'VERB' else str(token) for token in doc]\n",
        "    return ' '.join(doc_lematizado)"
      ],
      "execution_count": null,
      "outputs": []
    },
    {
      "cell_type": "markdown",
      "metadata": {
        "id": "g2n1q-PvnPbz"
      },
      "source": [
        "Finalmente, aplicamos as duas funções ao corpus, gerando as colunas *texto_stemizado*, *texto_lematizado*, *texto_sem_stopwords* e *texto_l_s* (combinação de lematização e stemização)."
      ]
    },
    {
      "cell_type": "code",
      "metadata": {
        "scrolled": true,
        "id": "VecvkEOwnPb0",
        "colab": {
          "base_uri": "https://localhost:8080/"
        },
        "outputId": "e078c9bc-aa3f-4185-daeb-c2844accfdbb"
      },
      "source": [
        "dados['texto_stemizado'] = dados.texto.progress_apply(stemizar)\n",
        "dados['texto_lematizado'] = dados.texto.progress_apply(lematizar)\n",
        "dados['texto_l_s'] = dados.texto.progress_apply(lambda x: stemizar(lematizar(x)))\n",
        "dados['texto_sem_stopwords'] = dados.texto.progress_apply(remover_stopwords)"
      ],
      "execution_count": null,
      "outputs": [
        {
          "output_type": "stream",
          "text": [
            "100%|██████████| 3759/3759 [00:13<00:00, 273.07it/s]\n",
            "100%|██████████| 3759/3759 [02:24<00:00, 26.01it/s]\n",
            "100%|██████████| 3759/3759 [02:36<00:00, 24.05it/s]\n",
            "100%|██████████| 3759/3759 [00:00<00:00, 8182.74it/s]\n"
          ],
          "name": "stderr"
        }
      ]
    },
    {
      "cell_type": "code",
      "metadata": {
        "id": "a_RS5LdznPb0",
        "colab": {
          "base_uri": "https://localhost:8080/",
          "height": 289
        },
        "outputId": "0705e670-b309-4243-ee36-eaa1a516c52d"
      },
      "source": [
        "dados.head()"
      ],
      "execution_count": null,
      "outputs": [
        {
          "output_type": "execute_result",
          "data": {
            "text/html": [
              "<div>\n",
              "<style scoped>\n",
              "    .dataframe tbody tr th:only-of-type {\n",
              "        vertical-align: middle;\n",
              "    }\n",
              "\n",
              "    .dataframe tbody tr th {\n",
              "        vertical-align: top;\n",
              "    }\n",
              "\n",
              "    .dataframe thead th {\n",
              "        text-align: right;\n",
              "    }\n",
              "</style>\n",
              "<table border=\"1\" class=\"dataframe\">\n",
              "  <thead>\n",
              "    <tr style=\"text-align: right;\">\n",
              "      <th></th>\n",
              "      <th>index</th>\n",
              "      <th>autor</th>\n",
              "      <th>tipo</th>\n",
              "      <th>texto</th>\n",
              "      <th>port</th>\n",
              "      <th>texto_stemizado</th>\n",
              "      <th>texto_lematizado</th>\n",
              "      <th>texto_l_s</th>\n",
              "      <th>texto_sem_stopwords</th>\n",
              "    </tr>\n",
              "  </thead>\n",
              "  <tbody>\n",
              "    <tr>\n",
              "      <th>0</th>\n",
              "      <td>0</td>\n",
              "      <td>Ricardo Reis</td>\n",
              "      <td>poesia</td>\n",
              "      <td>Diana através dos ramos\\nEspreita a vinda de E...</td>\n",
              "      <td>True</td>\n",
              "      <td>dian atrav ram espreit vind endymion endymion ...</td>\n",
              "      <td>diana atraves ramos espreitar vir endymion end...</td>\n",
              "      <td>dian atrav ram espreit vir endymion endymion n...</td>\n",
              "      <td>diana através ramos espreita vinda endymion en...</td>\n",
              "    </tr>\n",
              "    <tr>\n",
              "      <th>1</th>\n",
              "      <td>1</td>\n",
              "      <td>Fernando Pessoa</td>\n",
              "      <td>prosa</td>\n",
              "      <td>A REFORMA DO CALENDÁRIO E AS SUAS CONSEQUÊNCIA...</td>\n",
              "      <td>True</td>\n",
              "      <td>reform calendari consequenc comerc comissa esp...</td>\n",
              "      <td>reforma calendario consequencias comerciais co...</td>\n",
              "      <td>reform calendari consequenc comerc comissa esp...</td>\n",
              "      <td>reforma calendário consequências comerciais co...</td>\n",
              "    </tr>\n",
              "    <tr>\n",
              "      <th>2</th>\n",
              "      <td>3</td>\n",
              "      <td>Ricardo Reis</td>\n",
              "      <td>poesia</td>\n",
              "      <td>Aqui, sem outro Apolo do que Apolo,\\nSem um su...</td>\n",
              "      <td>True</td>\n",
              "      <td>aqu outr apol apol suspir abandon crist febr b...</td>\n",
              "      <td>aqui outro apolo apolo suspiro abandonemos cri...</td>\n",
              "      <td>aqu outr apol apol suspir abandon crist febr b...</td>\n",
              "      <td>aqui outro apolo apolo suspiro abandonemos cri...</td>\n",
              "    </tr>\n",
              "    <tr>\n",
              "      <th>3</th>\n",
              "      <td>5</td>\n",
              "      <td>Ricardo Reis</td>\n",
              "      <td>poesia</td>\n",
              "      <td>Em Ceres anoitece.\\nNos píncaros ainda\\nFaz lu...</td>\n",
              "      <td>True</td>\n",
              "      <td>cer anoitec pincar aind faz luz sint tao grand...</td>\n",
              "      <td>ceres anoitecer pincaros ainda fazer luz sinto...</td>\n",
              "      <td>cer anoitec pincar aind faz luz sint tao grand...</td>\n",
              "      <td>ceres anoitece píncaros ainda faz luz sinto tã...</td>\n",
              "    </tr>\n",
              "    <tr>\n",
              "      <th>4</th>\n",
              "      <td>8</td>\n",
              "      <td>Ricardo Reis</td>\n",
              "      <td>poesia</td>\n",
              "      <td>Não a ti, mas aos teus, odeio, Cristo.\\nTu não...</td>\n",
              "      <td>True</td>\n",
              "      <td>ti odei crist es deus etern panteon presid vid...</td>\n",
              "      <td>ti odeio cristo es deus eterno panteon preside...</td>\n",
              "      <td>ti odei crist es deus etern panteon presid vid...</td>\n",
              "      <td>ti odeio cristo és deus eterno pantéon preside...</td>\n",
              "    </tr>\n",
              "  </tbody>\n",
              "</table>\n",
              "</div>"
            ],
            "text/plain": [
              "   index  ...                                texto_sem_stopwords\n",
              "0      0  ...  diana através ramos espreita vinda endymion en...\n",
              "1      1  ...  reforma calendário consequências comerciais co...\n",
              "2      3  ...  aqui outro apolo apolo suspiro abandonemos cri...\n",
              "3      5  ...  ceres anoitece píncaros ainda faz luz sinto tã...\n",
              "4      8  ...  ti odeio cristo és deus eterno pantéon preside...\n",
              "\n",
              "[5 rows x 9 columns]"
            ]
          },
          "metadata": {
            "tags": []
          },
          "execution_count": 12
        }
      ]
    },
    {
      "cell_type": "markdown",
      "metadata": {
        "id": "LtlIUJfznPb1"
      },
      "source": [
        "## Passo 3: criação do modelo"
      ]
    },
    {
      "cell_type": "markdown",
      "metadata": {
        "id": "xZdzD8vXnPb1"
      },
      "source": [
        "Para treinamento do modelo, optamos por utilizar os 4 heterônimos com mais textos (Bernardo Soares, Álvaro de Campos, Ricardo Reis e Alberto Caeiro). Os textos classificados como Fernando Pessoa serão utilizados para treinar o modelo de *tf-idf*, mas não serão utilizados para treinar os modelos de classificaçã."
      ]
    },
    {
      "cell_type": "code",
      "metadata": {
        "id": "7JtwFUyMnPb1",
        "colab": {
          "base_uri": "https://localhost:8080/"
        },
        "outputId": "c4c65fca-d004-40fc-d8ac-144ae9d6b788"
      },
      "source": [
        "dados.autor.value_counts()"
      ],
      "execution_count": null,
      "outputs": [
        {
          "output_type": "execute_result",
          "data": {
            "text/plain": [
              "Fernando Pessoa     2327\n",
              "Bernardo Soares      503\n",
              "Álvaro de Campos     393\n",
              "Ricardo Reis         307\n",
              "Alberto Caeiro       127\n",
              "António Mora          95\n",
              "Alexander Search       7\n",
              "Name: autor, dtype: int64"
            ]
          },
          "metadata": {
            "tags": []
          },
          "execution_count": 13
        }
      ]
    },
    {
      "cell_type": "markdown",
      "metadata": {
        "id": "p75mnyRXnPb1"
      },
      "source": [
        "Criamos então o DataFrame `autores_principais`, o qual contém os quatro heterônimos mais frequentes."
      ]
    },
    {
      "cell_type": "code",
      "metadata": {
        "id": "IZkBRBy7nPb2",
        "colab": {
          "base_uri": "https://localhost:8080/"
        },
        "outputId": "7d112fde-3db3-41e0-98db-fc8bf34cb312"
      },
      "source": [
        "autores_principais = ['Bernardo Soares', 'Álvaro de Campos', 'Ricardo Reis', 'Alberto Caeiro']\n",
        "dados_principais = dados[dados['autor'].isin(autores_principais)].copy()\n",
        "dados_principais.autor.value_counts()"
      ],
      "execution_count": null,
      "outputs": [
        {
          "output_type": "execute_result",
          "data": {
            "text/plain": [
              "Bernardo Soares     503\n",
              "Álvaro de Campos    393\n",
              "Ricardo Reis        307\n",
              "Alberto Caeiro      127\n",
              "Name: autor, dtype: int64"
            ]
          },
          "metadata": {
            "tags": []
          },
          "execution_count": 14
        }
      ]
    },
    {
      "cell_type": "markdown",
      "metadata": {
        "id": "cN-tiSOynPb2"
      },
      "source": [
        "### Passo 3.1: codificação dos autores"
      ]
    },
    {
      "cell_type": "markdown",
      "metadata": {
        "id": "q5fhLSl7nPb3"
      },
      "source": [
        "Para podermos montar um modelo classificatório, precisamos lidar com a coluna categórica *author* do DataFrame. O `LabelEncoder` do **scikit-learn** é capaz de lidar com o problema. "
      ]
    },
    {
      "cell_type": "code",
      "metadata": {
        "id": "g9kUA2xcnPb3"
      },
      "source": [
        "le = LabelEncoder()\n",
        "dados_principais['autor_codificado'] = le.fit_transform(dados_principais['autor'])"
      ],
      "execution_count": null,
      "outputs": []
    },
    {
      "cell_type": "code",
      "metadata": {
        "id": "6Pkkocv-nPb3",
        "colab": {
          "base_uri": "https://localhost:8080/",
          "height": 289
        },
        "outputId": "ee0a3f8d-d927-4fc1-c5f2-d665aefd7aaf"
      },
      "source": [
        "dados_principais.head()"
      ],
      "execution_count": null,
      "outputs": [
        {
          "output_type": "execute_result",
          "data": {
            "text/html": [
              "<div>\n",
              "<style scoped>\n",
              "    .dataframe tbody tr th:only-of-type {\n",
              "        vertical-align: middle;\n",
              "    }\n",
              "\n",
              "    .dataframe tbody tr th {\n",
              "        vertical-align: top;\n",
              "    }\n",
              "\n",
              "    .dataframe thead th {\n",
              "        text-align: right;\n",
              "    }\n",
              "</style>\n",
              "<table border=\"1\" class=\"dataframe\">\n",
              "  <thead>\n",
              "    <tr style=\"text-align: right;\">\n",
              "      <th></th>\n",
              "      <th>index</th>\n",
              "      <th>autor</th>\n",
              "      <th>tipo</th>\n",
              "      <th>texto</th>\n",
              "      <th>port</th>\n",
              "      <th>texto_stemizado</th>\n",
              "      <th>texto_lematizado</th>\n",
              "      <th>texto_l_s</th>\n",
              "      <th>texto_sem_stopwords</th>\n",
              "      <th>autor_codificado</th>\n",
              "    </tr>\n",
              "  </thead>\n",
              "  <tbody>\n",
              "    <tr>\n",
              "      <th>0</th>\n",
              "      <td>0</td>\n",
              "      <td>Ricardo Reis</td>\n",
              "      <td>poesia</td>\n",
              "      <td>Diana através dos ramos\\nEspreita a vinda de E...</td>\n",
              "      <td>True</td>\n",
              "      <td>dian atrav ram espreit vind endymion endymion ...</td>\n",
              "      <td>diana atraves ramos espreitar vir endymion end...</td>\n",
              "      <td>dian atrav ram espreit vir endymion endymion n...</td>\n",
              "      <td>diana através ramos espreita vinda endymion en...</td>\n",
              "      <td>2</td>\n",
              "    </tr>\n",
              "    <tr>\n",
              "      <th>2</th>\n",
              "      <td>3</td>\n",
              "      <td>Ricardo Reis</td>\n",
              "      <td>poesia</td>\n",
              "      <td>Aqui, sem outro Apolo do que Apolo,\\nSem um su...</td>\n",
              "      <td>True</td>\n",
              "      <td>aqu outr apol apol suspir abandon crist febr b...</td>\n",
              "      <td>aqui outro apolo apolo suspiro abandonemos cri...</td>\n",
              "      <td>aqu outr apol apol suspir abandon crist febr b...</td>\n",
              "      <td>aqui outro apolo apolo suspiro abandonemos cri...</td>\n",
              "      <td>2</td>\n",
              "    </tr>\n",
              "    <tr>\n",
              "      <th>3</th>\n",
              "      <td>5</td>\n",
              "      <td>Ricardo Reis</td>\n",
              "      <td>poesia</td>\n",
              "      <td>Em Ceres anoitece.\\nNos píncaros ainda\\nFaz lu...</td>\n",
              "      <td>True</td>\n",
              "      <td>cer anoitec pincar aind faz luz sint tao grand...</td>\n",
              "      <td>ceres anoitecer pincaros ainda fazer luz sinto...</td>\n",
              "      <td>cer anoitec pincar aind faz luz sint tao grand...</td>\n",
              "      <td>ceres anoitece píncaros ainda faz luz sinto tã...</td>\n",
              "      <td>2</td>\n",
              "    </tr>\n",
              "    <tr>\n",
              "      <th>4</th>\n",
              "      <td>8</td>\n",
              "      <td>Ricardo Reis</td>\n",
              "      <td>poesia</td>\n",
              "      <td>Não a ti, mas aos teus, odeio, Cristo.\\nTu não...</td>\n",
              "      <td>True</td>\n",
              "      <td>ti odei crist es deus etern panteon presid vid...</td>\n",
              "      <td>ti odeio cristo es deus eterno panteon preside...</td>\n",
              "      <td>ti odei crist es deus etern panteon presid vid...</td>\n",
              "      <td>ti odeio cristo és deus eterno pantéon preside...</td>\n",
              "      <td>2</td>\n",
              "    </tr>\n",
              "    <tr>\n",
              "      <th>6</th>\n",
              "      <td>10</td>\n",
              "      <td>Bernardo Soares</td>\n",
              "      <td>prosa</td>\n",
              "      <td>— A única vantagem de estudar é gozar o quanto...</td>\n",
              "      <td>True</td>\n",
              "      <td>unic vantag estud goz quant outr diss arte iso...</td>\n",
              "      <td>unica vantagem estudar gozar quanto outros diz...</td>\n",
              "      <td>unic vantag estud goz quant outr diz arte isol...</td>\n",
              "      <td>única vantagem estudar gozar quanto outros dis...</td>\n",
              "      <td>1</td>\n",
              "    </tr>\n",
              "  </tbody>\n",
              "</table>\n",
              "</div>"
            ],
            "text/plain": [
              "   index  ... autor_codificado\n",
              "0      0  ...                2\n",
              "2      3  ...                2\n",
              "3      5  ...                2\n",
              "4      8  ...                2\n",
              "6     10  ...                1\n",
              "\n",
              "[5 rows x 10 columns]"
            ]
          },
          "metadata": {
            "tags": []
          },
          "execution_count": 16
        }
      ]
    },
    {
      "cell_type": "markdown",
      "metadata": {
        "id": "KSMv7ZaQnPb3"
      },
      "source": [
        "### Passo 3.2: divisão do DataFrame em treino e teste"
      ]
    },
    {
      "cell_type": "markdown",
      "metadata": {
        "id": "McyTBRmYnPb4"
      },
      "source": [
        "Para essa tarefa, utilizamos `train_test_split`, com o DataFrame de teste contendo 10% do conteúdo do DataFrame original."
      ]
    },
    {
      "cell_type": "code",
      "metadata": {
        "id": "fhnfqE-anPb4"
      },
      "source": [
        "train_X, test_X, train_Y, test_Y = train_test_split(\n",
        "    dados_principais[['texto', 'texto_stemizado', 'texto_sem_stopwords', 'texto_l_s', 'texto_lematizado']],\n",
        "    dados_principais['autor_codificado'],\n",
        "    test_size = 0.1,\n",
        "    random_state = 42,\n",
        ")"
      ],
      "execution_count": null,
      "outputs": []
    },
    {
      "cell_type": "markdown",
      "metadata": {
        "id": "EftXejdMnPb5"
      },
      "source": [
        "### Passo 3.3: criação do tf-idf"
      ]
    },
    {
      "cell_type": "markdown",
      "metadata": {
        "id": "VuPSHMbinPb5"
      },
      "source": [
        "Para criação do vetor do *tf-idf* utilizamos o texto lematizado e depois stemizados de **todos** autores. Depois aplicamos a transformação aprendida em todo o corpus nos DataFrames de teste e treino."
      ]
    },
    {
      "cell_type": "code",
      "metadata": {
        "id": "T9S4WASJnPb5"
      },
      "source": [
        "tfidf_vector = TfidfVectorizer()\n",
        "tfidf_vector.fit(dados_principais['texto_l_s'])\n",
        "\n",
        "train_X_tfidf = tfidf_vector.transform(train_X['texto_l_s'])\n",
        "test_X_tfidf = tfidf_vector.transform(test_X['texto_l_s'])\n",
        "\n",
        "dados_principais_tfidf = tfidf_vector.transform(dados_principais['texto_l_s'])"
      ],
      "execution_count": null,
      "outputs": []
    },
    {
      "cell_type": "markdown",
      "metadata": {
        "id": "vOvpvle8nPb5"
      },
      "source": [
        "### Passo 3.4: aplicando modelos"
      ]
    },
    {
      "cell_type": "markdown",
      "metadata": {
        "id": "eO5pUOKnnPb6"
      },
      "source": [
        "Nesse notebook, optamos por utilizar dois modelos clássicos para classificação de texto utilizando *tf-idf*: *Gaussian Naive Bayes* e *Support Vector Machine*. Uma explicação detalhada dos modelos pode ser encontrada na nossa página do Medium: [Turing Talks](https://medium.com/turing-talks)."
      ]
    },
    {
      "cell_type": "markdown",
      "metadata": {
        "id": "Jnsj5z2XnPb6"
      },
      "source": [
        "#### 3.4.1 GaussianNaiveBayes"
      ]
    },
    {
      "cell_type": "code",
      "metadata": {
        "id": "EwLZdDlSnPb6",
        "colab": {
          "base_uri": "https://localhost:8080/"
        },
        "outputId": "9d337f0d-5fc5-45f0-fcd9-03356869a735"
      },
      "source": [
        "nb = GaussianNB()\n",
        "nb.fit(train_X_tfidf.toarray(), train_Y)\n",
        "predictions_nb = nb.predict(test_X_tfidf.toarray())\n",
        "acuracia = accuracy_score(predictions_nb, test_Y)\n",
        "print(f\"Acurácia do Naive Bayes: {acuracia*100:.3f}%\")"
      ],
      "execution_count": null,
      "outputs": [
        {
          "output_type": "stream",
          "text": [
            "Acurácia do Naive Bayes: 60.902%\n"
          ],
          "name": "stdout"
        }
      ]
    },
    {
      "cell_type": "markdown",
      "metadata": {
        "id": "3_KnK4ijnPb6"
      },
      "source": [
        "#### 3.4.2 Support Vector Machine"
      ]
    },
    {
      "cell_type": "code",
      "metadata": {
        "id": "LskACn8xnPb6",
        "colab": {
          "base_uri": "https://localhost:8080/"
        },
        "outputId": "82316daf-18fa-45c4-e7b5-9ead37235057"
      },
      "source": [
        "svm = SVC(C=1.0, kernel='linear', degree=3, gamma='auto')\n",
        "svm.fit(train_X_tfidf, train_Y)\n",
        "predictions_svm = svm.predict(test_X_tfidf)\n",
        "acuracia = accuracy_score(predictions_svm, test_Y)\n",
        "print(f\"Acurácia da SVM: {acuracia*100:.3f}%\")"
      ],
      "execution_count": null,
      "outputs": [
        {
          "output_type": "stream",
          "text": [
            "Acurácia da SVM: 82.707%\n"
          ],
          "name": "stdout"
        }
      ]
    },
    {
      "cell_type": "code",
      "metadata": {
        "colab": {
          "base_uri": "https://localhost:8080/"
        },
        "id": "hbkHMqyp0Ocp",
        "outputId": "8ea024c5-9f83-40db-868f-d9e6ca861f19"
      },
      "source": [
        "svm = SVC(C=1.0, kernel='linear', degree=3, gamma='auto')\n",
        "svm.fit(train_X_tfidf, train_Y)\n",
        "predictions_svm = svm.predict(test_X_tfidf)\n",
        "acuracia = accuracy_score(predictions_svm, test_Y)\n",
        "print(f\"Acurácia da SVM: {acuracia*100:.3f}%\")"
      ],
      "execution_count": null,
      "outputs": [
        {
          "output_type": "stream",
          "text": [
            "Acurácia da SVM: 82.707%\n"
          ],
          "name": "stdout"
        }
      ]
    },
    {
      "cell_type": "markdown",
      "metadata": {
        "id": "_o1UvRUMnPb7"
      },
      "source": [
        "A SVM obteve resultados muito mais satisfatórios. Além disso, durante os testes, a utilização da coluna *texto_l_s* aumentou em cerca de 8% a acurácia do modelo e por isso ela foi a escolhida para ser utilizada."
      ]
    },
    {
      "cell_type": "markdown",
      "metadata": {
        "id": "VECMbZH9nPb7"
      },
      "source": [
        "#### 3.4.3 Hyperparameters"
      ]
    },
    {
      "cell_type": "code",
      "metadata": {
        "id": "f8IT852SnPb7",
        "colab": {
          "base_uri": "https://localhost:8080/"
        },
        "outputId": "9a360c90-b8f0-43f9-d406-cce44f946978"
      },
      "source": [
        "# Define the Parameters and fit the model\n",
        "\n",
        "parameters = {'C':[0.001, 0.01, 0.1, 1, 10],\n",
        "             'kernel':('linear', 'poly', 'rbf', 'sigmoid'),\n",
        "             'gamma':('scale', 'auto'),\n",
        "             'degree': [1, 2, 3, 4, 5, 6]}\n",
        "svm = SVC()\n",
        "clf = GridSearchCV(svm, parameters, cv=5, n_jobs=-1)\n",
        "clf.fit(train_X_tfidf, train_Y)\n",
        "#svm.fit(train_X_tfidf, train_Y)\n",
        "\n"
      ],
      "execution_count": null,
      "outputs": [
        {
          "output_type": "execute_result",
          "data": {
            "text/plain": [
              "GridSearchCV(cv=5, error_score=nan,\n",
              "             estimator=SVC(C=1.0, break_ties=False, cache_size=200,\n",
              "                           class_weight=None, coef0=0.0,\n",
              "                           decision_function_shape='ovr', degree=3,\n",
              "                           gamma='scale', kernel='rbf', max_iter=-1,\n",
              "                           probability=False, random_state=None, shrinking=True,\n",
              "                           tol=0.001, verbose=False),\n",
              "             iid='deprecated', n_jobs=-1,\n",
              "             param_grid={'C': [0.001, 0.01, 0.1, 1, 10],\n",
              "                         'degree': [1, 2, 3, 4, 5, 6],\n",
              "                         'gamma': ('scale', 'auto'),\n",
              "                         'kernel': ('linear', 'poly', 'rbf', 'sigmoid')},\n",
              "             pre_dispatch='2*n_jobs', refit=True, return_train_score=False,\n",
              "             scoring=None, verbose=0)"
            ]
          },
          "metadata": {
            "tags": []
          },
          "execution_count": 30
        }
      ]
    },
    {
      "cell_type": "code",
      "metadata": {
        "id": "BiJt4NhlnPb7",
        "colab": {
          "base_uri": "https://localhost:8080/"
        },
        "outputId": "f6749442-22b3-4c94-d2b3-9ce270f0fa1b"
      },
      "source": [
        "clf.cv_results_['mean_test_score']\n",
        "#predictions_svm = svm.predict(test_X_tfidf)\n",
        "#acuracia = accuracy_score(predictions_svm, test_Y)\n",
        "#print(f\"Acurácia da SVM: {acuracia*100:.3f}%\")"
      ],
      "execution_count": null,
      "outputs": [
        {
          "output_type": "execute_result",
          "data": {
            "text/plain": [
              "array([0.3751046 , 0.3751046 , 0.3751046 , 0.3751046 , 0.3751046 ,\n",
              "       0.3751046 , 0.3751046 , 0.3751046 , 0.3751046 , 0.3751046 ,\n",
              "       0.3751046 , 0.3751046 , 0.3751046 , 0.3751046 , 0.3751046 ,\n",
              "       0.3751046 , 0.3751046 , 0.3751046 , 0.3751046 , 0.3751046 ,\n",
              "       0.3751046 , 0.3751046 , 0.3751046 , 0.3751046 , 0.3751046 ,\n",
              "       0.3751046 , 0.3751046 , 0.3751046 , 0.3751046 , 0.3751046 ,\n",
              "       0.3751046 , 0.3751046 , 0.3751046 , 0.3751046 , 0.3751046 ,\n",
              "       0.3751046 , 0.3751046 , 0.3751046 , 0.3751046 , 0.3751046 ,\n",
              "       0.3751046 , 0.3751046 , 0.3751046 , 0.3751046 , 0.3751046 ,\n",
              "       0.3751046 , 0.3751046 , 0.3751046 , 0.3751046 , 0.3751046 ,\n",
              "       0.3751046 , 0.3751046 , 0.3751046 , 0.3751046 , 0.3751046 ,\n",
              "       0.3751046 , 0.3751046 , 0.3751046 , 0.3751046 , 0.3751046 ,\n",
              "       0.3751046 , 0.3751046 , 0.3751046 , 0.3751046 , 0.3751046 ,\n",
              "       0.3751046 , 0.3751046 , 0.3751046 , 0.3751046 , 0.3751046 ,\n",
              "       0.3751046 , 0.3751046 , 0.3751046 , 0.3751046 , 0.3751046 ,\n",
              "       0.3751046 , 0.3751046 , 0.3751046 , 0.3751046 , 0.3751046 ,\n",
              "       0.3751046 , 0.3751046 , 0.3751046 , 0.3751046 , 0.3751046 ,\n",
              "       0.3751046 , 0.3751046 , 0.3751046 , 0.3751046 , 0.3751046 ,\n",
              "       0.3751046 , 0.3751046 , 0.3751046 , 0.3751046 , 0.3751046 ,\n",
              "       0.3751046 , 0.3751046 , 0.3751046 , 0.3751046 , 0.3751046 ,\n",
              "       0.3751046 , 0.3751046 , 0.3751046 , 0.3751046 , 0.3751046 ,\n",
              "       0.3751046 , 0.3751046 , 0.3751046 , 0.3751046 , 0.3751046 ,\n",
              "       0.3751046 , 0.3751046 , 0.3751046 , 0.3751046 , 0.3751046 ,\n",
              "       0.3751046 , 0.3751046 , 0.3751046 , 0.3751046 , 0.3751046 ,\n",
              "       0.3751046 , 0.3751046 , 0.3751046 , 0.3751046 , 0.3751046 ,\n",
              "       0.3751046 , 0.3751046 , 0.3751046 , 0.3751046 , 0.3751046 ,\n",
              "       0.3751046 , 0.3751046 , 0.3751046 , 0.3751046 , 0.3751046 ,\n",
              "       0.3751046 , 0.3751046 , 0.3751046 , 0.3751046 , 0.3751046 ,\n",
              "       0.3751046 , 0.3751046 , 0.3751046 , 0.3751046 , 0.75693166,\n",
              "       0.75693166, 0.69926778, 0.74439331, 0.75693166, 0.3751046 ,\n",
              "       0.3751046 , 0.3751046 , 0.75693166, 0.59147838, 0.69926778,\n",
              "       0.74439331, 0.75693166, 0.3751046 , 0.3751046 , 0.3751046 ,\n",
              "       0.75693166, 0.40936541, 0.69926778, 0.74439331, 0.75693166,\n",
              "       0.3751046 , 0.3751046 , 0.3751046 , 0.75693166, 0.39599372,\n",
              "       0.69926778, 0.74439331, 0.75693166, 0.3751046 , 0.3751046 ,\n",
              "       0.3751046 , 0.75693166, 0.39599372, 0.69926778, 0.74439331,\n",
              "       0.75693166, 0.3751046 , 0.3751046 , 0.3751046 , 0.75693166,\n",
              "       0.39432357, 0.69926778, 0.74439331, 0.75693166, 0.3751046 ,\n",
              "       0.3751046 , 0.3751046 , 0.7552371 , 0.7552371 , 0.73771269,\n",
              "       0.73017085, 0.7552371 , 0.3751046 , 0.3751046 , 0.3751046 ,\n",
              "       0.7552371 , 0.63825314, 0.73771269, 0.73017085, 0.7552371 ,\n",
              "       0.3751046 , 0.3751046 , 0.3751046 , 0.7552371 , 0.42440725,\n",
              "       0.73771269, 0.73017085, 0.7552371 , 0.3751046 , 0.3751046 ,\n",
              "       0.3751046 , 0.7552371 , 0.40351464, 0.73771269, 0.73017085,\n",
              "       0.7552371 , 0.3751046 , 0.3751046 , 0.3751046 , 0.7552371 ,\n",
              "       0.39766388, 0.73771269, 0.73017085, 0.7552371 , 0.3751046 ,\n",
              "       0.3751046 , 0.3751046 , 0.7552371 , 0.39599372, 0.73771269,\n",
              "       0.73017085, 0.7552371 , 0.3751046 , 0.3751046 , 0.3751046 ])"
            ]
          },
          "metadata": {
            "tags": []
          },
          "execution_count": 31
        }
      ]
    },
    {
      "cell_type": "code",
      "metadata": {
        "colab": {
          "base_uri": "https://localhost:8080/",
          "height": 669
        },
        "id": "bsR959lawcGo",
        "outputId": "3e46e8fc-27e3-4997-8c03-88d751e92218"
      },
      "source": [
        "df = pd.DataFrame(clf.cv_results_['params'])\n",
        "df['mean_test_score'] = clf.cv_results_['mean_test_score']\n",
        "df.sort_values(by='mean_test_score').tail(20)"
      ],
      "execution_count": null,
      "outputs": [
        {
          "output_type": "execute_result",
          "data": {
            "text/html": [
              "<div>\n",
              "<style scoped>\n",
              "    .dataframe tbody tr th:only-of-type {\n",
              "        vertical-align: middle;\n",
              "    }\n",
              "\n",
              "    .dataframe tbody tr th {\n",
              "        vertical-align: top;\n",
              "    }\n",
              "\n",
              "    .dataframe thead th {\n",
              "        text-align: right;\n",
              "    }\n",
              "</style>\n",
              "<table border=\"1\" class=\"dataframe\">\n",
              "  <thead>\n",
              "    <tr style=\"text-align: right;\">\n",
              "      <th></th>\n",
              "      <th>C</th>\n",
              "      <th>degree</th>\n",
              "      <th>gamma</th>\n",
              "      <th>kernel</th>\n",
              "      <th>mean_test_score</th>\n",
              "    </tr>\n",
              "  </thead>\n",
              "  <tbody>\n",
              "    <tr>\n",
              "      <th>224</th>\n",
              "      <td>10.0</td>\n",
              "      <td>5</td>\n",
              "      <td>scale</td>\n",
              "      <td>linear</td>\n",
              "      <td>0.755237</td>\n",
              "    </tr>\n",
              "    <tr>\n",
              "      <th>193</th>\n",
              "      <td>10.0</td>\n",
              "      <td>1</td>\n",
              "      <td>scale</td>\n",
              "      <td>poly</td>\n",
              "      <td>0.755237</td>\n",
              "    </tr>\n",
              "    <tr>\n",
              "      <th>200</th>\n",
              "      <td>10.0</td>\n",
              "      <td>2</td>\n",
              "      <td>scale</td>\n",
              "      <td>linear</td>\n",
              "      <td>0.755237</td>\n",
              "    </tr>\n",
              "    <tr>\n",
              "      <th>216</th>\n",
              "      <td>10.0</td>\n",
              "      <td>4</td>\n",
              "      <td>scale</td>\n",
              "      <td>linear</td>\n",
              "      <td>0.755237</td>\n",
              "    </tr>\n",
              "    <tr>\n",
              "      <th>196</th>\n",
              "      <td>10.0</td>\n",
              "      <td>1</td>\n",
              "      <td>auto</td>\n",
              "      <td>linear</td>\n",
              "      <td>0.755237</td>\n",
              "    </tr>\n",
              "    <tr>\n",
              "      <th>192</th>\n",
              "      <td>10.0</td>\n",
              "      <td>1</td>\n",
              "      <td>scale</td>\n",
              "      <td>linear</td>\n",
              "      <td>0.755237</td>\n",
              "    </tr>\n",
              "    <tr>\n",
              "      <th>212</th>\n",
              "      <td>10.0</td>\n",
              "      <td>3</td>\n",
              "      <td>auto</td>\n",
              "      <td>linear</td>\n",
              "      <td>0.755237</td>\n",
              "    </tr>\n",
              "    <tr>\n",
              "      <th>144</th>\n",
              "      <td>1.0</td>\n",
              "      <td>1</td>\n",
              "      <td>scale</td>\n",
              "      <td>linear</td>\n",
              "      <td>0.756932</td>\n",
              "    </tr>\n",
              "    <tr>\n",
              "      <th>145</th>\n",
              "      <td>1.0</td>\n",
              "      <td>1</td>\n",
              "      <td>scale</td>\n",
              "      <td>poly</td>\n",
              "      <td>0.756932</td>\n",
              "    </tr>\n",
              "    <tr>\n",
              "      <th>148</th>\n",
              "      <td>1.0</td>\n",
              "      <td>1</td>\n",
              "      <td>auto</td>\n",
              "      <td>linear</td>\n",
              "      <td>0.756932</td>\n",
              "    </tr>\n",
              "    <tr>\n",
              "      <th>152</th>\n",
              "      <td>1.0</td>\n",
              "      <td>2</td>\n",
              "      <td>scale</td>\n",
              "      <td>linear</td>\n",
              "      <td>0.756932</td>\n",
              "    </tr>\n",
              "    <tr>\n",
              "      <th>176</th>\n",
              "      <td>1.0</td>\n",
              "      <td>5</td>\n",
              "      <td>scale</td>\n",
              "      <td>linear</td>\n",
              "      <td>0.756932</td>\n",
              "    </tr>\n",
              "    <tr>\n",
              "      <th>156</th>\n",
              "      <td>1.0</td>\n",
              "      <td>2</td>\n",
              "      <td>auto</td>\n",
              "      <td>linear</td>\n",
              "      <td>0.756932</td>\n",
              "    </tr>\n",
              "    <tr>\n",
              "      <th>160</th>\n",
              "      <td>1.0</td>\n",
              "      <td>3</td>\n",
              "      <td>scale</td>\n",
              "      <td>linear</td>\n",
              "      <td>0.756932</td>\n",
              "    </tr>\n",
              "    <tr>\n",
              "      <th>188</th>\n",
              "      <td>1.0</td>\n",
              "      <td>6</td>\n",
              "      <td>auto</td>\n",
              "      <td>linear</td>\n",
              "      <td>0.756932</td>\n",
              "    </tr>\n",
              "    <tr>\n",
              "      <th>168</th>\n",
              "      <td>1.0</td>\n",
              "      <td>4</td>\n",
              "      <td>scale</td>\n",
              "      <td>linear</td>\n",
              "      <td>0.756932</td>\n",
              "    </tr>\n",
              "    <tr>\n",
              "      <th>184</th>\n",
              "      <td>1.0</td>\n",
              "      <td>6</td>\n",
              "      <td>scale</td>\n",
              "      <td>linear</td>\n",
              "      <td>0.756932</td>\n",
              "    </tr>\n",
              "    <tr>\n",
              "      <th>172</th>\n",
              "      <td>1.0</td>\n",
              "      <td>4</td>\n",
              "      <td>auto</td>\n",
              "      <td>linear</td>\n",
              "      <td>0.756932</td>\n",
              "    </tr>\n",
              "    <tr>\n",
              "      <th>180</th>\n",
              "      <td>1.0</td>\n",
              "      <td>5</td>\n",
              "      <td>auto</td>\n",
              "      <td>linear</td>\n",
              "      <td>0.756932</td>\n",
              "    </tr>\n",
              "    <tr>\n",
              "      <th>164</th>\n",
              "      <td>1.0</td>\n",
              "      <td>3</td>\n",
              "      <td>auto</td>\n",
              "      <td>linear</td>\n",
              "      <td>0.756932</td>\n",
              "    </tr>\n",
              "  </tbody>\n",
              "</table>\n",
              "</div>"
            ],
            "text/plain": [
              "        C  degree  gamma  kernel  mean_test_score\n",
              "224  10.0       5  scale  linear         0.755237\n",
              "193  10.0       1  scale    poly         0.755237\n",
              "200  10.0       2  scale  linear         0.755237\n",
              "216  10.0       4  scale  linear         0.755237\n",
              "196  10.0       1   auto  linear         0.755237\n",
              "192  10.0       1  scale  linear         0.755237\n",
              "212  10.0       3   auto  linear         0.755237\n",
              "144   1.0       1  scale  linear         0.756932\n",
              "145   1.0       1  scale    poly         0.756932\n",
              "148   1.0       1   auto  linear         0.756932\n",
              "152   1.0       2  scale  linear         0.756932\n",
              "176   1.0       5  scale  linear         0.756932\n",
              "156   1.0       2   auto  linear         0.756932\n",
              "160   1.0       3  scale  linear         0.756932\n",
              "188   1.0       6   auto  linear         0.756932\n",
              "168   1.0       4  scale  linear         0.756932\n",
              "184   1.0       6  scale  linear         0.756932\n",
              "172   1.0       4   auto  linear         0.756932\n",
              "180   1.0       5   auto  linear         0.756932\n",
              "164   1.0       3   auto  linear         0.756932"
            ]
          },
          "metadata": {
            "tags": []
          },
          "execution_count": 45
        }
      ]
    },
    {
      "cell_type": "code",
      "metadata": {
        "colab": {
          "base_uri": "https://localhost:8080/"
        },
        "id": "cswVqnuFz26a",
        "outputId": "6e8bd858-650f-427b-f7a8-221877abef7c"
      },
      "source": [
        "print(clf.best_params_)\n",
        "print(clf.best_score_)"
      ],
      "execution_count": null,
      "outputs": [
        {
          "output_type": "stream",
          "text": [
            "{'C': 1, 'degree': 1, 'gamma': 'scale', 'kernel': 'linear'}\n",
            "0.756931659693166\n"
          ],
          "name": "stdout"
        }
      ]
    },
    {
      "cell_type": "markdown",
      "metadata": {
        "id": "NPMLYgQQnPb8"
      },
      "source": [
        "## Passo 4: visualizando os vetores do tf-idf utilizando redução de dimensionalidade"
      ]
    },
    {
      "cell_type": "markdown",
      "metadata": {
        "id": "3eEQ1-BknPb8"
      },
      "source": [
        "Afim de obtermos uma visualização do *tf-idf*, aplicamos a transformação individualmente para cada autor e então reduzimos o vetor a duas dimensões utilizando o algoritmo **PCA**. A utilização de algoritmos mais complexos também se mostrou viável, mas optamos por não colocar suas aplicações nesse notebook."
      ]
    },
    {
      "cell_type": "markdown",
      "metadata": {
        "id": "S1THmDLGnPb8"
      },
      "source": [
        "### Passo 4.1: aplicando *tf-idf* para cada heterônimo "
      ]
    },
    {
      "cell_type": "code",
      "metadata": {
        "id": "ZWH3yH1AnPb8"
      },
      "source": [
        "bernardo = dados_principais[dados_principais.autor == 'Bernardo Soares']\n",
        "ricardo = dados_principais[dados_principais.autor == 'Ricardo Reis']\n",
        "campos = dados_principais[dados_principais.autor == 'Álvaro de Campos']\n",
        "alberto = dados_principais[dados_principais.autor == 'Alberto Caeiro']\n",
        "\n",
        "bernardo_tfidf = tfidf_vector.transform(bernardo.texto_stemizado)\n",
        "ricardo_tfidf = tfidf_vector.transform(ricardo.texto_stemizado)\n",
        "campos_tfidf = tfidf_vector.transform(campos.texto_stemizado)\n",
        "alberto_tfidf = tfidf_vector.transform(alberto.texto_stemizado)"
      ],
      "execution_count": null,
      "outputs": []
    },
    {
      "cell_type": "markdown",
      "metadata": {
        "id": "MLPkr1BsnPb9"
      },
      "source": [
        "### Passo 4.2: aplicando PCA nos vetores do *tf-idf* e então utilizando matplotlib para visualizar os resultados"
      ]
    },
    {
      "cell_type": "markdown",
      "metadata": {
        "id": "coEcJ9LrnPb9"
      },
      "source": [
        "Nesse passo, utlizamos uma simples transformação para duas dimensões e então plotamos o PCA em um scatter do matplotlib."
      ]
    },
    {
      "cell_type": "code",
      "metadata": {
        "id": "5s9e4R81nPb-",
        "outputId": "3e683ef1-757f-47cc-d816-6f34a8ceb93f"
      },
      "source": [
        "data2D = PCA(n_components = 2).fit_transform(bernardo_tfidf.todense())\n",
        "plt.scatter(data2D[:, 0], data2D[:, 1], c = 'red', alpha = 0.5)\n",
        "plt.title('Bernardo Soares')\n",
        "plt.show()\n",
        "\n",
        "data2D = PCA(n_components = 2).fit_transform(alberto_tfidf.todense())\n",
        "plt.scatter(data2D[:, 0], data2D[:, 1], c = 'purple', alpha = 0.5)\n",
        "plt.title('Alberto Caeiro')\n",
        "plt.show()\n",
        "\n",
        "data2D = PCA(n_components = 2).fit_transform(ricardo_tfidf.todense())\n",
        "plt.scatter(data2D[:, 0], data2D[:, 1], c = 'blue', alpha = 0.5)\n",
        "plt.title('Ricardo Reis')\n",
        "plt.show()\n",
        "\n",
        "data2D = PCA(n_components = 2).fit_transform(campos_tfidf.todense())\n",
        "plt.scatter(data2D[:, 0], data2D[:, 1], c = 'green', alpha = 0.5)\n",
        "plt.title('Álvaro de Campos')\n",
        "plt.show()"
      ],
      "execution_count": null,
      "outputs": [
        {
          "output_type": "display_data",
          "data": {
            "image/png": "[encoded data removed]",
            "text/plain": [
              "<Figure size 432x288 with 1 Axes>"
            ]
          },
          "metadata": {
            "tags": [],
            "needs_background": "light"
          }
        },
        {
          "output_type": "display_data",
          "data": {
            "image/png": "[encoded data removed]",
            "text/plain": [
              "<Figure size 432x288 with 1 Axes>"
            ]
          },
          "metadata": {
            "tags": [],
            "needs_background": "light"
          }
        },
        {
          "output_type": "display_data",
          "data": {
            "image/png": "[encoded data removed]",
            "text/plain": [
              "<Figure size 432x288 with 1 Axes>"
            ]
          },
          "metadata": {
            "tags": [],
            "needs_background": "light"
          }
        },
        {
          "output_type": "display_data",
          "data": {
            "image/png": "[encoded data removed]",
            "text/plain": [
              "<Figure size 432x288 with 1 Axes>"
            ]
          },
          "metadata": {
            "tags": [],
            "needs_background": "light"
          }
        }
      ]
    }
  ]
}